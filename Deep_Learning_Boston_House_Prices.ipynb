{
  "nbformat": 4,
  "nbformat_minor": 0,
  "metadata": {
    "colab": {
      "provenance": [],
      "authorship_tag": "ABX9TyOMdsB5C6mUfo2jZ2tpDJEp",
      "include_colab_link": true
    },
    "kernelspec": {
      "name": "python3",
      "display_name": "Python 3"
    },
    "language_info": {
      "name": "python"
    }
  },
  "cells": [
    {
      "cell_type": "markdown",
      "metadata": {
        "id": "view-in-github",
        "colab_type": "text"
      },
      "source": [
        "<a href=\"https://colab.research.google.com/github/mace1341/studious-invention/blob/main/Deep_Learning_Boston_House_Prices.ipynb\" target=\"_parent\"><img src=\"https://colab.research.google.com/assets/colab-badge.svg\" alt=\"Open In Colab\"/></a>"
      ]
    },
    {
      "cell_type": "code",
      "source": [
        "import numpy as np\n",
        "from keras.datasets import boston_housing\n",
        "\n",
        "# Can we use the 13 features to model and predict the media value\n",
        "(train_data, train_targets), (test_data, test_targets) = boston_housing.load_data()\n"
      ],
      "metadata": {
        "id": "o6pTrSeCuw4F",
        "colab": {
          "base_uri": "https://localhost:8080/"
        },
        "outputId": "17c1ddaf-db16-43ce-fbf0-57a0077a84a1"
      },
      "execution_count": null,
      "outputs": [
        {
          "output_type": "stream",
          "name": "stdout",
          "text": [
            "Downloading data from https://storage.googleapis.com/tensorflow/tf-keras-datasets/boston_housing.npz\n",
            "\u001b[1m57026/57026\u001b[0m \u001b[32m━━━━━━━━━━━━━━━━━━━━\u001b[0m\u001b[37m\u001b[0m \u001b[1m0s\u001b[0m 0us/step\n"
          ]
        }
      ]
    },
    {
      "cell_type": "code",
      "source": [
        "# Preparing the data\n",
        "# Feature-wise normalization\n",
        "# In other words, normalize each feature's scale such that:\n",
        "# feature center around 0 and has a unit SD\n",
        "\n",
        "mean = train_data.mean(axis=0)\n",
        "train_data -= mean\n",
        "std = train_data.std(axis=0)\n",
        "train_data /= std\n",
        "\n",
        "test_data -= mean\n",
        "test_data /= std\n"
      ],
      "metadata": {
        "id": "yW4lulQtvHfh"
      },
      "execution_count": null,
      "outputs": []
    },
    {
      "cell_type": "code",
      "source": [
        "# Building the Network\n",
        "\n",
        "from keras import models\n",
        "from keras import layers\n",
        "\n",
        "# helper function\n",
        "def build_model():\n",
        "  model = models.Sequential()\n",
        "  model.add(layers.Dense(64, activation='relu', input_shape=(train_data.shape[1],)))\n",
        "  model.add(layers.Dense(64, activation='relu'))\n",
        "  model.add(layers.Dense(1))\n",
        "  model.compile(optimizer='rmsprop', loss='mse', metrics=['mae'])\n",
        "  return model\n",
        "\n",
        "# Small Network with 2 hidden layers, each with 64 units\n",
        "# in general the less training data, the worse overfitting will be,\n",
        "#   and using a small network is one way to mitigate overfitting\n",
        "\n",
        "# Network ends with single unit and no activation layer (it will be a linear layer)\n",
        "# This is typical setup for scalar regression (where your tring to predice a single continuous value)\n",
        "# Applying an activation function would constrain the range the output can take;\n",
        "#   i.e., if you applied a sigmoid activation function to the last layer the network\n",
        "#   could only lear to predict values between 0 and 1\n",
        "\n",
        "# mse loss function - square of the difference between predictions and target\n",
        "#   widely used for regressions\n",
        "\n",
        "# mae helpful - measures the absolute difference between predictions and target\n"
      ],
      "metadata": {
        "id": "LTxKQFhLxome"
      },
      "execution_count": null,
      "outputs": []
    },
    {
      "cell_type": "code",
      "source": [
        "# K-fold validation\n",
        "# Given small data set, reliabe way of evaluating model\n",
        "#  validation on k partitions of data set\n",
        "\n",
        "k = 4\n",
        "num_val_samples = len(train_data) // k\n",
        "num_epochs = 500\n",
        "all_mae_histories = []\n",
        "\n",
        "for i in range(k):\n",
        "  print('processing fold #', i)\n",
        "\n",
        "  # create partitioned (slices) data samples and targets\n",
        "  val_data = train_data[i * num_val_samples: (i + 1) * num_val_samples]\n",
        "  val_targets = train_targets[i * num_val_samples: (i + 1) * num_val_samples]\n",
        "\n",
        "  partial_train_data = np.concatenate(\n",
        "      [train_data[:i * num_val_samples],\n",
        "       train_data[(i + 1) * num_val_samples:]],\n",
        "      axis = 0)\n",
        "\n",
        "  partial_train_targets = np.concatenate(\n",
        "      [train_targets[:i * num_val_samples],\n",
        "       train_targets[(i + 1) * num_val_samples:]],\n",
        "      axis = 0)\n",
        "\n",
        "  # call model\n",
        "  model = build_model()\n",
        "\n",
        "  # train model for each partition\n",
        "  history = model.fit(partial_train_data,\n",
        "                      partial_train_targets,\n",
        "                      epochs=num_epochs,\n",
        "                      batch_size=1,\n",
        "                      verbose=0)\n",
        "\n",
        "  # capture model performance at each epoch\n",
        "  mae_history = history.history['mae']\n",
        "\n",
        "  # capture in history list\n",
        "  all_mae_histories.append(mae_history)\n",
        "\n",
        "  # compute mean of the per-epoch MAE score for all folds\n",
        "average_mae_history = [\n",
        "    np.mean([x[i] for x in all_mae_histories])\n",
        "    for i in range(num_epochs)\n",
        "    ]"
      ],
      "metadata": {
        "colab": {
          "base_uri": "https://localhost:8080/"
        },
        "id": "9VKKYFG00fDf",
        "outputId": "2a3e04f9-4bcd-4573-f8bb-4fbdb93dac00"
      },
      "execution_count": null,
      "outputs": [
        {
          "output_type": "stream",
          "name": "stdout",
          "text": [
            "processing fold # 0\n"
          ]
        },
        {
          "output_type": "stream",
          "name": "stderr",
          "text": [
            "/usr/local/lib/python3.10/dist-packages/keras/src/layers/core/dense.py:87: UserWarning: Do not pass an `input_shape`/`input_dim` argument to a layer. When using Sequential models, prefer using an `Input(shape)` object as the first layer in the model instead.\n",
            "  super().__init__(activity_regularizer=activity_regularizer, **kwargs)\n"
          ]
        },
        {
          "output_type": "stream",
          "name": "stdout",
          "text": [
            "processing fold # 1\n",
            "processing fold # 2\n",
            "processing fold # 3\n"
          ]
        }
      ]
    }
  ]
}